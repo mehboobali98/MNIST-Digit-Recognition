{
 "cells": [
  {
   "cell_type": "markdown",
   "metadata": {},
   "source": [
    "# Digit Recognition Using SVM Classifier with HOG features"
   ]
  },
  {
   "cell_type": "code",
   "execution_count": 6,
   "metadata": {},
   "outputs": [],
   "source": [
    "# import all necessary libraries\n",
    "import warnings\n",
    "warnings.filterwarnings('ignore')\n",
    "\n",
    "from sklearn.model_selection import train_test_split\n",
    "from sklearn import metrics\n",
    "from sklearn.svm import SVC\n",
    "from skimage.feature import hog\n",
    "from sklearn.model_selection import KFold\n",
    "from sklearn.model_selection import cross_val_score\n",
    "from sklearn.model_selection import GridSearchCV\n",
    "from sklearn.externals import joblib\n",
    "\n",
    "import pandas as pd\n",
    "import numpy as np\n",
    "import matplotlib.pyplot as plt"
   ]
  },
  {
   "cell_type": "markdown",
   "metadata": {},
   "source": [
    "# Reading Original MNIST dataset"
   ]
  },
  {
   "cell_type": "code",
   "execution_count": 15,
   "metadata": {
    "scrolled": true
   },
   "outputs": [
    {
     "name": "stdout",
     "output_type": "stream",
     "text": [
      "(60000, 784)\n",
      "(60000, 1)\n"
     ]
    }
   ],
   "source": [
    "# load the original MNIST digits dataset\n",
    "X = pd.read_csv('./Dataset/train.csv', header=None)\n",
    "y = pd.read_csv('./Dataset/train_labels.csv', header=None)\n",
    "\n",
    "# check data shape\n",
    "print(X.shape)\n",
    "print(y.shape)"
   ]
  },
  {
   "cell_type": "markdown",
   "metadata": {},
   "source": [
    "# Extracting HOG features"
   ]
  },
  {
   "cell_type": "code",
   "execution_count": 9,
   "metadata": {},
   "outputs": [],
   "source": [
    "# extracting HOG features from the dataset\n",
    "def extract_features(features):\n",
    "    list_hog_fd = []\n",
    "    for feature in features:\n",
    "        fd = hog(feature.reshape((28, 28)), orientations=4, pixels_per_cell=(4, 4), cells_per_block=(4, 4), visualize=False, block_norm = 'L2-Hys')\n",
    "        list_hog_fd.append(fd)\n",
    "    hog_features = np.array(list_hog_fd, 'float64')\n",
    "    return hog_features"
   ]
  },
  {
   "cell_type": "code",
   "execution_count": 10,
   "metadata": {},
   "outputs": [],
   "source": [
    "# Extract the features and labels\n",
    "features = np.array(X, 'int16')\n",
    "labels = np.array(y, 'int')\n",
    "\n",
    "hog_features = extract_features(features)"
   ]
  },
  {
   "cell_type": "markdown",
   "metadata": {},
   "source": [
    "# Splitting the dataset for training and testing"
   ]
  },
  {
   "cell_type": "code",
   "execution_count": 18,
   "metadata": {},
   "outputs": [],
   "source": [
    "# train test split\n",
    "X_train, X_test, y_train, y_test = train_test_split(hog_features, labels, test_size = 0.80, random_state = 42)\n",
    "\n",
    "# normalize the data\n",
    "X_train = X_train / 255.0\n",
    "X_test = X_test / 255.0"
   ]
  },
  {
   "cell_type": "code",
   "execution_count": 19,
   "metadata": {},
   "outputs": [
    {
     "name": "stdout",
     "output_type": "stream",
     "text": [
      "X_train shape: (12000, 784)\n",
      "y_train shape: (12000, 1)\n",
      "X_test shape: (48000, 784)\n",
      "y_test shape: (48000, 1)\n"
     ]
    }
   ],
   "source": [
    "# checking the splits\n",
    "print('X_train shape:', X_train.shape)\n",
    "print('y_train shape:', y_train.shape)\n",
    "print('X_test shape:', X_test.shape)\n",
    "print('y_test shape:', y_test.shape)"
   ]
  },
  {
   "cell_type": "markdown",
   "metadata": {},
   "source": [
    "# Model Building\n",
    "# Linear Model"
   ]
  },
  {
   "cell_type": "code",
   "execution_count": 21,
   "metadata": {},
   "outputs": [
    {
     "data": {
      "text/plain": [
       "['linearSVM.pkl']"
      ]
     },
     "execution_count": 21,
     "metadata": {},
     "output_type": "execute_result"
    }
   ],
   "source": [
    "# Create a linear SVM object\n",
    "clf = SVC(kernel=\"linear\")\n",
    "\n",
    "# Perform the training\n",
    "clf.fit(X_train, y_train)\n",
    "\n",
    "# Save the classifier as pkl file\n",
    "joblib.dump(clf, \"linearSVM.pkl\")"
   ]
  },
  {
   "cell_type": "code",
   "execution_count": 22,
   "metadata": {},
   "outputs": [
    {
     "name": "stdout",
     "output_type": "stream",
     "text": [
      "accuracy: 0.91575 \n",
      "\n"
     ]
    }
   ],
   "source": [
    "#Load the classifier\n",
    "model = joblib.load(\"linearSVM.pkl\")\n",
    "\n",
    "# predict\n",
    "y_pred = model.predict(X_test)\n",
    "\n",
    "# accuracy\n",
    "print(\"accuracy:\", metrics.accuracy_score(y_true=y_test, y_pred=y_pred), \"\\n\")"
   ]
  },
  {
   "cell_type": "code",
   "execution_count": 9,
   "metadata": {},
   "outputs": [
    {
     "name": "stdout",
     "output_type": "stream",
     "text": [
      "              precision    recall  f1-score   support\n",
      "\n",
      "           0       0.00      0.00      0.00      4751\n",
      "           1       0.11      1.00      0.20      5355\n",
      "           2       0.00      0.00      0.00      4742\n",
      "           3       0.00      0.00      0.00      4966\n",
      "           4       0.00      0.00      0.00      4703\n",
      "           5       0.00      0.00      0.00      4355\n",
      "           6       0.00      0.00      0.00      4711\n",
      "           7       0.00      0.00      0.00      5007\n",
      "           8       0.00      0.00      0.00      4647\n",
      "           9       0.00      0.00      0.00      4763\n",
      "\n",
      "    accuracy                           0.11     48000\n",
      "   macro avg       0.01      0.10      0.02     48000\n",
      "weighted avg       0.01      0.11      0.02     48000\n",
      "\n"
     ]
    }
   ],
   "source": [
    "# precision, recall and f1-score\n",
    "scores=metrics.classification_report(y_test, y_pred, labels=[0, 1, 2, 3, 4, 5, 6, 7, 8, 9])\n",
    "print(scores)"
   ]
  },
  {
   "cell_type": "markdown",
   "metadata": {},
   "source": [
    "# Non-Linear Model\n",
    "# 1. Poly kernel"
   ]
  },
  {
   "cell_type": "code",
   "execution_count": 10,
   "metadata": {},
   "outputs": [
    {
     "data": {
      "text/plain": [
       "['nonlinear-Poly.pkl']"
      ]
     },
     "execution_count": 10,
     "metadata": {},
     "output_type": "execute_result"
    }
   ],
   "source": [
    "# Create a non-linear poly object\n",
    "clf = SVC(kernel=\"poly\")\n",
    "\n",
    "# Perform the training\n",
    "clf.fit(X_train, y_train.ravel())\n",
    "\n",
    "# Save the classifier as pkl file\n",
    "joblib.dump(clf, \"nonlinear-Poly.pkl\")"
   ]
  },
  {
   "cell_type": "code",
   "execution_count": 11,
   "metadata": {},
   "outputs": [
    {
     "name": "stdout",
     "output_type": "stream",
     "text": [
      "accuracy: 0.9838541666666667 \n",
      "\n"
     ]
    }
   ],
   "source": [
    "#Load the classifier\n",
    "model = joblib.load(\"nonlinear-Poly.pkl\")\n",
    "\n",
    "# predict\n",
    "y_pred = model.predict(X_test)\n",
    "\n",
    "# accuracy\n",
    "print(\"accuracy:\", metrics.accuracy_score(y_true=y_test, y_pred=y_pred.ravel()), \"\\n\")"
   ]
  },
  {
   "cell_type": "code",
   "execution_count": 12,
   "metadata": {},
   "outputs": [
    {
     "name": "stdout",
     "output_type": "stream",
     "text": [
      "              precision    recall  f1-score   support\n",
      "\n",
      "           0       0.99      0.99      0.99      4751\n",
      "           1       0.99      0.99      0.99      5355\n",
      "           2       0.98      0.99      0.98      4742\n",
      "           3       0.98      0.98      0.98      4966\n",
      "           4       0.98      0.99      0.98      4703\n",
      "           5       0.99      0.98      0.98      4355\n",
      "           6       0.98      0.99      0.99      4711\n",
      "           7       0.98      0.98      0.98      5007\n",
      "           8       0.98      0.98      0.98      4647\n",
      "           9       0.98      0.97      0.98      4763\n",
      "\n",
      "    accuracy                           0.98     48000\n",
      "   macro avg       0.98      0.98      0.98     48000\n",
      "weighted avg       0.98      0.98      0.98     48000\n",
      "\n"
     ]
    }
   ],
   "source": [
    "# precision, recall and f1-score\n",
    "scores=metrics.classification_report(y_test, y_pred, labels=[0, 1, 2, 3, 4, 5, 6, 7, 8, 9])\n",
    "print(scores)"
   ]
  },
  {
   "cell_type": "markdown",
   "metadata": {},
   "source": [
    "# 2. rbf kernel"
   ]
  },
  {
   "cell_type": "code",
   "execution_count": 13,
   "metadata": {},
   "outputs": [
    {
     "data": {
      "text/plain": [
       "['nonlinear-Rbf.pkl']"
      ]
     },
     "execution_count": 13,
     "metadata": {},
     "output_type": "execute_result"
    }
   ],
   "source": [
    "# non-linear model\n",
    "# using rbf kernel, C=1, default value of gamma\n",
    "clf = SVC(kernel=\"rbf\")\n",
    "\n",
    "# fit\n",
    "clf.fit(X_train, y_train.ravel())\n",
    "\n",
    "# Save the classifier as pkl file\n",
    "joblib.dump(clf, \"nonlinear-Rbf.pkl\")"
   ]
  },
  {
   "cell_type": "code",
   "execution_count": 14,
   "metadata": {},
   "outputs": [
    {
     "name": "stdout",
     "output_type": "stream",
     "text": [
      "accuracy: 0.9823125 \n",
      "\n"
     ]
    }
   ],
   "source": [
    "# Load the classifier\n",
    "model = joblib.load(\"nonlinear-Rbf.pkl\")\n",
    "\n",
    "# predict\n",
    "y_pred = model.predict(X_test)\n",
    "\n",
    "# accuracy\n",
    "print(\"accuracy:\", metrics.accuracy_score(y_true=y_test, y_pred=y_pred.ravel()), \"\\n\")"
   ]
  },
  {
   "cell_type": "code",
   "execution_count": 15,
   "metadata": {},
   "outputs": [
    {
     "name": "stdout",
     "output_type": "stream",
     "text": [
      "              precision    recall  f1-score   support\n",
      "\n",
      "           0       0.99      0.99      0.99      4751\n",
      "           1       0.99      0.99      0.99      5355\n",
      "           2       0.98      0.99      0.98      4742\n",
      "           3       0.98      0.98      0.98      4966\n",
      "           4       0.98      0.98      0.98      4703\n",
      "           5       0.99      0.98      0.98      4355\n",
      "           6       0.98      0.99      0.99      4711\n",
      "           7       0.98      0.98      0.98      5007\n",
      "           8       0.97      0.97      0.97      4647\n",
      "           9       0.98      0.97      0.97      4763\n",
      "\n",
      "    accuracy                           0.98     48000\n",
      "   macro avg       0.98      0.98      0.98     48000\n",
      "weighted avg       0.98      0.98      0.98     48000\n",
      "\n"
     ]
    }
   ],
   "source": [
    "# precision, recall and f1-score\n",
    "scores=metrics.classification_report(y_test, y_pred, labels=[0, 1, 2, 3, 4, 5, 6, 7, 8, 9])\n",
    "print(scores)"
   ]
  },
  {
   "cell_type": "markdown",
   "metadata": {},
   "source": [
    "# Testing the non-linear poly kernel on an unseen dataset"
   ]
  },
  {
   "cell_type": "code",
   "execution_count": 16,
   "metadata": {},
   "outputs": [
    {
     "name": "stdout",
     "output_type": "stream",
     "text": [
      "(10000, 784)\n",
      "(10000, 1)\n"
     ]
    }
   ],
   "source": [
    "# load the Original MNIST test data set\n",
    "test_data = pd.read_csv('./Dataset/test.csv', header=None)\n",
    "test_labels = pd.read_csv('./Dataset/test_labels.csv', header=None)\n",
    "\n",
    "# normalize test data\n",
    "test_data = test_data / 255.0\n",
    "\n",
    "# check data shape\n",
    "print(test_data.shape)\n",
    "print(test_labels.shape)"
   ]
  },
  {
   "cell_type": "code",
   "execution_count": 17,
   "metadata": {},
   "outputs": [],
   "source": [
    "# converting to int16\n",
    "test_features = np.array(test_data, 'int16')\n",
    "\n",
    "# Extract the hog features\n",
    "hog_features = extract_features(test_features)"
   ]
  },
  {
   "cell_type": "code",
   "execution_count": 18,
   "metadata": {},
   "outputs": [
    {
     "name": "stdout",
     "output_type": "stream",
     "text": [
      "accuracy: 0.9823125 \n",
      "\n"
     ]
    }
   ],
   "source": [
    "#Load the trained classifier\n",
    "model = joblib.load(\"nonlinear-Poly.pkl\")\n",
    "\n",
    "# make predictions\n",
    "predictions = model.predict(hog_features)\n",
    "\n",
    "# accuracy\n",
    "print(\"accuracy:\", metrics.accuracy_score(y_true=y_test, y_pred=y_pred.ravel()), \"\\n\")"
   ]
  },
  {
   "cell_type": "code",
   "execution_count": 19,
   "metadata": {},
   "outputs": [
    {
     "name": "stdout",
     "output_type": "stream",
     "text": [
      "              precision    recall  f1-score   support\n",
      "\n",
      "           0       0.99      0.99      0.99      4751\n",
      "           1       0.99      0.99      0.99      5355\n",
      "           2       0.98      0.99      0.98      4742\n",
      "           3       0.98      0.98      0.98      4966\n",
      "           4       0.98      0.98      0.98      4703\n",
      "           5       0.99      0.98      0.98      4355\n",
      "           6       0.98      0.99      0.99      4711\n",
      "           7       0.98      0.98      0.98      5007\n",
      "           8       0.97      0.97      0.97      4647\n",
      "           9       0.98      0.97      0.97      4763\n",
      "\n",
      "    accuracy                           0.98     48000\n",
      "   macro avg       0.98      0.98      0.98     48000\n",
      "weighted avg       0.98      0.98      0.98     48000\n",
      "\n"
     ]
    }
   ],
   "source": [
    "# precision, recall and f1-score\n",
    "scores=metrics.classification_report(y_test, y_pred, labels=[0, 1, 2, 3, 4, 5, 6, 7, 8, 9])\n",
    "print(scores)"
   ]
  },
  {
   "cell_type": "markdown",
   "metadata": {},
   "source": [
    "# Testing the final model for kaggle competition"
   ]
  },
  {
   "cell_type": "code",
   "execution_count": 20,
   "metadata": {},
   "outputs": [
    {
     "name": "stdout",
     "output_type": "stream",
     "text": [
      "(10000, 784)\n"
     ]
    }
   ],
   "source": [
    "# read kaggle test dataset\n",
    "test_dataset = pd.read_csv('test.csv')\n",
    "\n",
    "# normalize test data\n",
    "test_data = test_data / 255.0\n",
    "\n",
    "# check shape\n",
    "print(test_data.shape)"
   ]
  },
  {
   "cell_type": "code",
   "execution_count": 21,
   "metadata": {},
   "outputs": [
    {
     "name": "stdout",
     "output_type": "stream",
     "text": [
      "(28000, 1024)\n"
     ]
    }
   ],
   "source": [
    "# extract the features\n",
    "test_features = np.array(test_dataset, 'int16')\n",
    "\n",
    "# obtain HOG features\n",
    "hog_features = extract_features(test_features)\n",
    "\n",
    "# check shape\n",
    "print(hog_features.shape)"
   ]
  },
  {
   "cell_type": "code",
   "execution_count": 22,
   "metadata": {},
   "outputs": [],
   "source": [
    "# Load the classifier\n",
    "model = joblib.load(\"nonlinear-Poly.pkl\")\n",
    "\n",
    "# make predictions\n",
    "y_predict = model.predict(hog_features)\n",
    "\n",
    "# preparing data for kaggle submission\n",
    "test_ids = []\n",
    "pred_labels = []\n",
    "\n",
    "for k in range(len(y_predict)):\n",
    "    test_ids.append(k+1)\n",
    "    \n",
    "for k in range(len(y_predict)):\n",
    "    pred_labels.append(y_predict[k])\n",
    "    \n",
    "df = pd.DataFrame(list(zip(test_ids,pred_labels)),\n",
    "                 columns =['ImageId', 'Label'])\n",
    "\n",
    "# create submission file\n",
    "df.to_csv('submission_poly.csv', index=False)"
   ]
  }
 ],
 "metadata": {
  "kernelspec": {
   "display_name": "Python 3",
   "language": "python",
   "name": "python3"
  },
  "language_info": {
   "codemirror_mode": {
    "name": "ipython",
    "version": 3
   },
   "file_extension": ".py",
   "mimetype": "text/x-python",
   "name": "python",
   "nbconvert_exporter": "python",
   "pygments_lexer": "ipython3",
   "version": "3.8.3"
  }
 },
 "nbformat": 4,
 "nbformat_minor": 2
}
